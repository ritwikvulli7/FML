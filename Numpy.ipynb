{
  "nbformat": 4,
  "nbformat_minor": 0,
  "metadata": {
    "colab": {
      "provenance": [],
      "include_colab_link": true
    },
    "kernelspec": {
      "name": "python3",
      "display_name": "Python 3"
    },
    "language_info": {
      "name": "python"
    }
  },
  "cells": [
    {
      "cell_type": "markdown",
      "metadata": {
        "id": "view-in-github",
        "colab_type": "text"
      },
      "source": [
        "<a href=\"https://colab.research.google.com/github/ritwikvulli7/FML/blob/main/Numpy.ipynb\" target=\"_parent\"><img src=\"https://colab.research.google.com/assets/colab-badge.svg\" alt=\"Open In Colab\"/></a>"
      ]
    },
    {
      "cell_type": "code",
      "execution_count": 1,
      "metadata": {
        "id": "vteRSFq_RlGN"
      },
      "outputs": [],
      "source": [
        "import numpy as np"
      ]
    },
    {
      "cell_type": "code",
      "source": [
        "a=np.array([100])\n",
        "print(a)"
      ],
      "metadata": {
        "colab": {
          "base_uri": "https://localhost:8080/"
        },
        "id": "ONDEzcllRxkh",
        "outputId": "83eb1676-bd0e-45e0-fe4d-4bef6d83c797"
      },
      "execution_count": 2,
      "outputs": [
        {
          "output_type": "stream",
          "name": "stdout",
          "text": [
            "[100]\n"
          ]
        }
      ]
    },
    {
      "cell_type": "code",
      "source": [
        "a=np.array([300])\n",
        "print(a)"
      ],
      "metadata": {
        "colab": {
          "base_uri": "https://localhost:8080/"
        },
        "id": "D2vioCMGSFBv",
        "outputId": "ed60f1f5-838e-4b91-c374-bf91e2561092"
      },
      "execution_count": 3,
      "outputs": [
        {
          "output_type": "stream",
          "name": "stdout",
          "text": [
            "[300]\n"
          ]
        }
      ]
    },
    {
      "cell_type": "code",
      "source": [
        "d=np.array([400])\n",
        "print(d)"
      ],
      "metadata": {
        "colab": {
          "base_uri": "https://localhost:8080/"
        },
        "id": "JgKb4MVNSJTK",
        "outputId": "7df2c868-156b-4959-97af-74c604e776c3"
      },
      "execution_count": 4,
      "outputs": [
        {
          "output_type": "stream",
          "name": "stdout",
          "text": [
            "[400]\n"
          ]
        }
      ]
    },
    {
      "cell_type": "code",
      "source": [
        "a=np.array([100,200,300])\n",
        "print(a)"
      ],
      "metadata": {
        "colab": {
          "base_uri": "https://localhost:8080/"
        },
        "id": "IpXZLk45SQcI",
        "outputId": "d5c9980f-1452-40b3-f81b-78836025a3b0"
      },
      "execution_count": 5,
      "outputs": [
        {
          "output_type": "stream",
          "name": "stdout",
          "text": [
            "[100 200 300]\n"
          ]
        }
      ]
    },
    {
      "cell_type": "code",
      "source": [
        "b=np.array([300,400,500])\n",
        "print(b)"
      ],
      "metadata": {
        "colab": {
          "base_uri": "https://localhost:8080/"
        },
        "id": "0JW9UxBaSVP1",
        "outputId": "6891397e-b5bd-46ae-ff3d-04f0c0f60c03"
      },
      "execution_count": 6,
      "outputs": [
        {
          "output_type": "stream",
          "name": "stdout",
          "text": [
            "[300 400 500]\n"
          ]
        }
      ]
    },
    {
      "cell_type": "code",
      "source": [
        "c=np.array([500,600,700])\n",
        "print(c)"
      ],
      "metadata": {
        "colab": {
          "base_uri": "https://localhost:8080/"
        },
        "id": "C4mTvoexSXsD",
        "outputId": "28ee99c8-609d-49d2-972f-51a700f2160d"
      },
      "execution_count": 7,
      "outputs": [
        {
          "output_type": "stream",
          "name": "stdout",
          "text": [
            "[500 600 700]\n"
          ]
        }
      ]
    },
    {
      "cell_type": "code",
      "source": [
        "d=np.array([199,400,600])\n",
        "print(d)"
      ],
      "metadata": {
        "colab": {
          "base_uri": "https://localhost:8080/"
        },
        "id": "UrmgU6JISZfu",
        "outputId": "d0729165-fd95-4213-d526-f0e5cf31d702"
      },
      "execution_count": 8,
      "outputs": [
        {
          "output_type": "stream",
          "name": "stdout",
          "text": [
            "[199 400 600]\n"
          ]
        }
      ]
    },
    {
      "cell_type": "code",
      "source": [
        "a=np.array([[100,200],[400,300]])\n",
        "print(a)"
      ],
      "metadata": {
        "colab": {
          "base_uri": "https://localhost:8080/"
        },
        "id": "PxiVYDqTSesa",
        "outputId": "d7c15c9b-9e49-4b58-ea41-9186b39a0f1c"
      },
      "execution_count": 9,
      "outputs": [
        {
          "output_type": "stream",
          "name": "stdout",
          "text": [
            "[[100 200]\n",
            " [400 300]]\n"
          ]
        }
      ]
    },
    {
      "cell_type": "code",
      "source": [
        "b=np.array([[30,400],[400,500]])\n",
        "print(b)"
      ],
      "metadata": {
        "colab": {
          "base_uri": "https://localhost:8080/"
        },
        "id": "ptq9j4zDSiHZ",
        "outputId": "02bead72-e547-486c-e0d5-c1b543d86c0c"
      },
      "execution_count": 10,
      "outputs": [
        {
          "output_type": "stream",
          "name": "stdout",
          "text": [
            "[[ 30 400]\n",
            " [400 500]]\n"
          ]
        }
      ]
    },
    {
      "cell_type": "code",
      "source": [
        "c=np.array([[10,20],[30,40]])\n",
        "print(c)"
      ],
      "metadata": {
        "colab": {
          "base_uri": "https://localhost:8080/"
        },
        "id": "Ga__PLraSjIE",
        "outputId": "98519420-92b6-4da6-e995-87ad863acb4e"
      },
      "execution_count": 11,
      "outputs": [
        {
          "output_type": "stream",
          "name": "stdout",
          "text": [
            "[[10 20]\n",
            " [30 40]]\n"
          ]
        }
      ]
    },
    {
      "cell_type": "code",
      "source": [
        "a=np.array([[[100,200],[300,400]],[[500,600],[700,800]]])\n",
        "print(a)"
      ],
      "metadata": {
        "colab": {
          "base_uri": "https://localhost:8080/"
        },
        "id": "g1THE_6tSqOp",
        "outputId": "11dcf824-5c64-42ad-c929-6cb84a8b362d"
      },
      "execution_count": 12,
      "outputs": [
        {
          "output_type": "stream",
          "name": "stdout",
          "text": [
            "[[[100 200]\n",
            "  [300 400]]\n",
            "\n",
            " [[500 600]\n",
            "  [700 800]]]\n"
          ]
        }
      ]
    },
    {
      "cell_type": "code",
      "source": [
        "b=np.array([[[10,20],[30,40]],[[50,60],[70,80]]])\n",
        "print(b)"
      ],
      "metadata": {
        "colab": {
          "base_uri": "https://localhost:8080/"
        },
        "id": "zqmiU3xBStIA",
        "outputId": "bf225c19-95bd-4f3b-ad6f-2683075bde77"
      },
      "execution_count": 13,
      "outputs": [
        {
          "output_type": "stream",
          "name": "stdout",
          "text": [
            "[[[10 20]\n",
            "  [30 40]]\n",
            "\n",
            " [[50 60]\n",
            "  [70 80]]]\n"
          ]
        }
      ]
    },
    {
      "cell_type": "code",
      "source": [
        "c=np.array([[[5,15],[25,35]],[[45,55],[65,75]]])\n",
        "print(c)"
      ],
      "metadata": {
        "colab": {
          "base_uri": "https://localhost:8080/"
        },
        "id": "32bGOaItSwgD",
        "outputId": "a12ecfb9-cec4-49ef-fccd-aa593dc45e2f"
      },
      "execution_count": 14,
      "outputs": [
        {
          "output_type": "stream",
          "name": "stdout",
          "text": [
            "[[[ 5 15]\n",
            "  [25 35]]\n",
            "\n",
            " [[45 55]\n",
            "  [65 75]]]\n"
          ]
        }
      ]
    },
    {
      "cell_type": "markdown",
      "source": [
        "# **Asarray**"
      ],
      "metadata": {
        "id": "Aihylw0cSx0K"
      }
    },
    {
      "cell_type": "code",
      "source": [
        "a=[200,300,400,500]\n",
        "b=np.asarray(a,dtype=float)\n",
        "print(b)"
      ],
      "metadata": {
        "colab": {
          "base_uri": "https://localhost:8080/"
        },
        "id": "oZuFekAfSz3M",
        "outputId": "c25a524e-8a3e-4126-8502-a8ba0462773f"
      },
      "execution_count": 15,
      "outputs": [
        {
          "output_type": "stream",
          "name": "stdout",
          "text": [
            "[200. 300. 400. 500.]\n"
          ]
        }
      ]
    },
    {
      "cell_type": "code",
      "source": [
        "a=[1,2,3,4]\n",
        "b=np.asarray(a,dtype=int)\n",
        "print(b)"
      ],
      "metadata": {
        "colab": {
          "base_uri": "https://localhost:8080/"
        },
        "id": "AvSa61ivS2bT",
        "outputId": "138af8e8-88c3-4379-9d4e-871f9eb29fa3"
      },
      "execution_count": 16,
      "outputs": [
        {
          "output_type": "stream",
          "name": "stdout",
          "text": [
            "[1 2 3 4]\n"
          ]
        }
      ]
    },
    {
      "cell_type": "code",
      "source": [
        "a=[40,50,60]\n",
        "b=np.asarray(a,dtype=int)\n",
        "print(b)"
      ],
      "metadata": {
        "colab": {
          "base_uri": "https://localhost:8080/"
        },
        "id": "c7p2TYubTDLM",
        "outputId": "5bcc4a4c-195e-45e8-c7d1-7ae12ba916eb"
      },
      "execution_count": 17,
      "outputs": [
        {
          "output_type": "stream",
          "name": "stdout",
          "text": [
            "[40 50 60]\n"
          ]
        }
      ]
    },
    {
      "cell_type": "code",
      "source": [
        "a=[[100,200],[300,400]]\n",
        "b=np.asarray(a,order=\"c\")\n",
        "print(a)\n",
        "for i in np.nditer(b):\n",
        "  print(i)"
      ],
      "metadata": {
        "colab": {
          "base_uri": "https://localhost:8080/"
        },
        "id": "xHGboC_4TGDL",
        "outputId": "c059c8c0-1ddc-414a-9241-024103e8341b"
      },
      "execution_count": 18,
      "outputs": [
        {
          "output_type": "stream",
          "name": "stdout",
          "text": [
            "[[100, 200], [300, 400]]\n",
            "100\n",
            "200\n",
            "300\n",
            "400\n"
          ]
        }
      ]
    },
    {
      "cell_type": "code",
      "source": [
        "a=[[100,200],[300,400]]\n",
        "b=np.asarray(a,order=\"c\")\n",
        "print(a)\n",
        "for i in np.nditer(b):\n",
        "  print(i)"
      ],
      "metadata": {
        "colab": {
          "base_uri": "https://localhost:8080/"
        },
        "id": "5_ljOv7VTYrb",
        "outputId": "67b4ef57-ef4b-4863-a523-03e66c7816c0"
      },
      "execution_count": 19,
      "outputs": [
        {
          "output_type": "stream",
          "name": "stdout",
          "text": [
            "[[100, 200], [300, 400]]\n",
            "100\n",
            "200\n",
            "300\n",
            "400\n"
          ]
        }
      ]
    },
    {
      "cell_type": "code",
      "source": [
        "a=[[10,20],[30,40]]\n",
        "b=np.asarray(a,order=\"F\")\n",
        "print(a)\n",
        "for i in np.nditer(b):\n",
        "   print(i)"
      ],
      "metadata": {
        "colab": {
          "base_uri": "https://localhost:8080/"
        },
        "id": "AfxLoSF5Te-d",
        "outputId": "a3fedc82-77b8-4020-b97f-13cc7ed4949b"
      },
      "execution_count": 20,
      "outputs": [
        {
          "output_type": "stream",
          "name": "stdout",
          "text": [
            "[[10, 20], [30, 40]]\n",
            "10\n",
            "30\n",
            "20\n",
            "40\n"
          ]
        }
      ]
    },
    {
      "cell_type": "markdown",
      "source": [
        "# **From Buffer**"
      ],
      "metadata": {
        "id": "3w_EqyjATlRk"
      }
    },
    {
      "cell_type": "code",
      "source": [
        "a=b\"SECOND YEAR CSE STUDENTS\"\n",
        "np.frombuffer(a,dtype='S1')"
      ],
      "metadata": {
        "colab": {
          "base_uri": "https://localhost:8080/"
        },
        "id": "yDWHcRGjTn2J",
        "outputId": "9ae36d71-843f-4946-b403-d637d6c98270"
      },
      "execution_count": 22,
      "outputs": [
        {
          "output_type": "execute_result",
          "data": {
            "text/plain": [
              "array([b'S', b'E', b'C', b'O', b'N', b'D', b' ', b'Y', b'E', b'A', b'R',\n",
              "       b' ', b'C', b'S', b'E', b' ', b'S', b'T', b'U', b'D', b'E', b'N',\n",
              "       b'T', b'S'], dtype='|S1')"
            ]
          },
          "metadata": {},
          "execution_count": 22
        }
      ]
    },
    {
      "cell_type": "code",
      "source": [
        "a=b\"RITWIK\"\n",
        "np.frombuffer(a,dtype='S1')"
      ],
      "metadata": {
        "colab": {
          "base_uri": "https://localhost:8080/"
        },
        "id": "GujGYcbfT2i4",
        "outputId": "71c1bb35-6714-4c75-9782-40b69f9234db"
      },
      "execution_count": 23,
      "outputs": [
        {
          "output_type": "execute_result",
          "data": {
            "text/plain": [
              "array([b'R', b'I', b'T', b'W', b'I', b'K'], dtype='|S1')"
            ]
          },
          "metadata": {},
          "execution_count": 23
        }
      ]
    },
    {
      "cell_type": "markdown",
      "source": [
        "# **Count**"
      ],
      "metadata": {
        "id": "wwu4s1jWT6jR"
      }
    },
    {
      "cell_type": "code",
      "source": [
        "a=b\"SECOND YEAR CSE STUDENTS\"\n",
        "np.frombuffer(a,dtype=\"S1\",count=15)\n"
      ],
      "metadata": {
        "colab": {
          "base_uri": "https://localhost:8080/"
        },
        "id": "t60yB_thT95u",
        "outputId": "40a7fbf9-9a93-4dad-c2c5-6d4cee55097c"
      },
      "execution_count": 25,
      "outputs": [
        {
          "output_type": "execute_result",
          "data": {
            "text/plain": [
              "array([b'S', b'E', b'C', b'O', b'N', b'D', b' ', b'Y', b'E', b'A', b'R',\n",
              "       b' ', b'C', b'S', b'E'], dtype='|S1')"
            ]
          },
          "metadata": {},
          "execution_count": 25
        }
      ]
    },
    {
      "cell_type": "code",
      "source": [
        "a=b\"SECOND YEAR CSE STUDENTS\"\n",
        "np.frombuffer(a,dtype=\"S1\",count=15)"
      ],
      "metadata": {
        "colab": {
          "base_uri": "https://localhost:8080/"
        },
        "id": "2cN7HdsOUDMN",
        "outputId": "9f3cd555-613b-4759-e6ac-4aa61bb4d33e"
      },
      "execution_count": 26,
      "outputs": [
        {
          "output_type": "execute_result",
          "data": {
            "text/plain": [
              "array([b'S', b'E', b'C', b'O', b'N', b'D', b' ', b'Y', b'E', b'A', b'R',\n",
              "       b' ', b'C', b'S', b'E'], dtype='|S1')"
            ]
          },
          "metadata": {},
          "execution_count": 26
        }
      ]
    },
    {
      "cell_type": "markdown",
      "source": [
        "# **Offset**"
      ],
      "metadata": {
        "id": "8Irdb_5cUEU9"
      }
    }
  ]
}